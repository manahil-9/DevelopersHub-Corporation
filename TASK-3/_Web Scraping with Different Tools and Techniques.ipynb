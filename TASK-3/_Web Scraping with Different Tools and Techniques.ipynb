{
 "cells": [
  {
   "cell_type": "markdown",
   "id": "08781a20",
   "metadata": {},
   "source": [
    "# Step 1: Web Scraping Using requests and BeautifulSoup"
   ]
  },
  {
   "cell_type": "markdown",
   "id": "532246a4",
   "metadata": {},
   "source": [
    "## Importing necessary libraries"
   ]
  },
  {
   "cell_type": "code",
   "execution_count": 25,
   "id": "a55b3e14",
   "metadata": {},
   "outputs": [],
   "source": [
    "import requests\n",
    "from bs4 import BeautifulSoup\n",
    "import pandas as pd"
   ]
  },
  {
   "cell_type": "markdown",
   "id": "0c27fa47",
   "metadata": {},
   "source": [
    "## URL of the target website"
   ]
  },
  {
   "cell_type": "code",
   "execution_count": 26,
   "id": "e8f5f235",
   "metadata": {},
   "outputs": [],
   "source": [
    "url = 'http://books.toscrape.com/'"
   ]
  },
  {
   "cell_type": "markdown",
   "id": "22f5d6eb",
   "metadata": {},
   "source": [
    "## Sending a request to the website"
   ]
  },
  {
   "cell_type": "code",
   "execution_count": 27,
   "id": "caaa5320",
   "metadata": {},
   "outputs": [],
   "source": [
    "response = requests.get(url)"
   ]
  },
  {
   "cell_type": "markdown",
   "id": "7c13106a",
   "metadata": {},
   "source": [
    "## Parse HTML content"
   ]
  },
  {
   "cell_type": "code",
   "execution_count": 28,
   "id": "58f36bf0",
   "metadata": {},
   "outputs": [],
   "source": [
    "soup = BeautifulSoup(response.text, 'html.parser')"
   ]
  },
  {
   "cell_type": "markdown",
   "id": "929f9c82",
   "metadata": {},
   "source": [
    "## Extracting data"
   ]
  },
  {
   "cell_type": "code",
   "execution_count": 49,
   "id": "bd7a0592",
   "metadata": {},
   "outputs": [],
   "source": [
    "books = soup.find_all('article', class_='product_pod')\n",
    "\n",
    "books_data_beautifulsoup = []\n",
    "\n",
    "for book in books:\n",
    "    # Title\n",
    "    title = book.h3.a['title']\n",
    "    \n",
    "    # Price\n",
    "    price = book.find('p', class_='price_color').text\n",
    "    \n",
    "    # Availability\n",
    "    availability = book.find('p', class_='instock availability').text.strip()\n",
    "    \n",
    "    # Append the data\n",
    "    books_data_beautifulsoup.append({\n",
    "        'Title': title,\n",
    "        'Price': price,\n",
    "        'Availability': availability\n",
    "    })"
   ]
  },
  {
   "cell_type": "markdown",
   "id": "2e0096f7",
   "metadata": {},
   "source": [
    "## Converting the data into a DataFrame"
   ]
  },
  {
   "cell_type": "code",
   "execution_count": 50,
   "id": "a11785e0",
   "metadata": {},
   "outputs": [],
   "source": [
    "df = pd.DataFrame(books_data_beautifulsoup)"
   ]
  },
  {
   "cell_type": "markdown",
   "id": "c2b0fd81",
   "metadata": {},
   "source": [
    "## Saving data to CSV"
   ]
  },
  {
   "cell_type": "code",
   "execution_count": 51,
   "id": "17f5a7a6",
   "metadata": {},
   "outputs": [],
   "source": [
    "df.to_csv('books_data_beautifulsoup.csv', index=False)"
   ]
  },
  {
   "cell_type": "markdown",
   "id": "82a731b8",
   "metadata": {},
   "source": [
    "## Preview data"
   ]
  },
  {
   "cell_type": "code",
   "execution_count": 52,
   "id": "16f1dd3b",
   "metadata": {},
   "outputs": [
    {
     "data": {
      "text/html": [
       "<div>\n",
       "<style scoped>\n",
       "    .dataframe tbody tr th:only-of-type {\n",
       "        vertical-align: middle;\n",
       "    }\n",
       "\n",
       "    .dataframe tbody tr th {\n",
       "        vertical-align: top;\n",
       "    }\n",
       "\n",
       "    .dataframe thead th {\n",
       "        text-align: right;\n",
       "    }\n",
       "</style>\n",
       "<table border=\"1\" class=\"dataframe\">\n",
       "  <thead>\n",
       "    <tr style=\"text-align: right;\">\n",
       "      <th></th>\n",
       "      <th>Title</th>\n",
       "      <th>Price</th>\n",
       "      <th>Availability</th>\n",
       "    </tr>\n",
       "  </thead>\n",
       "  <tbody>\n",
       "    <tr>\n",
       "      <th>0</th>\n",
       "      <td>A Light in the Attic</td>\n",
       "      <td>£51.77</td>\n",
       "      <td>In stock</td>\n",
       "    </tr>\n",
       "    <tr>\n",
       "      <th>1</th>\n",
       "      <td>Tipping the Velvet</td>\n",
       "      <td>£53.74</td>\n",
       "      <td>In stock</td>\n",
       "    </tr>\n",
       "    <tr>\n",
       "      <th>2</th>\n",
       "      <td>Soumission</td>\n",
       "      <td>£50.10</td>\n",
       "      <td>In stock</td>\n",
       "    </tr>\n",
       "    <tr>\n",
       "      <th>3</th>\n",
       "      <td>Sharp Objects</td>\n",
       "      <td>£47.82</td>\n",
       "      <td>In stock</td>\n",
       "    </tr>\n",
       "    <tr>\n",
       "      <th>4</th>\n",
       "      <td>Sapiens: A Brief History of Humankind</td>\n",
       "      <td>£54.23</td>\n",
       "      <td>In stock</td>\n",
       "    </tr>\n",
       "  </tbody>\n",
       "</table>\n",
       "</div>"
      ],
      "text/plain": [
       "                                   Title   Price Availability\n",
       "0                   A Light in the Attic  £51.77     In stock\n",
       "1                     Tipping the Velvet  £53.74     In stock\n",
       "2                             Soumission  £50.10     In stock\n",
       "3                          Sharp Objects  £47.82     In stock\n",
       "4  Sapiens: A Brief History of Humankind  £54.23     In stock"
      ]
     },
     "execution_count": 52,
     "metadata": {},
     "output_type": "execute_result"
    }
   ],
   "source": [
    "df.head()"
   ]
  },
  {
   "cell_type": "markdown",
   "id": "792ed684",
   "metadata": {},
   "source": [
    "# Step 2: Web Scraping Using Scrapy"
   ]
  },
  {
   "cell_type": "markdown",
   "id": "25ab1c67",
   "metadata": {},
   "source": [
    "In this step, we implemented web scraping using the Scrapy framework. The step was performed in a file named `books.py`."
   ]
  },
  {
   "cell_type": "markdown",
   "id": "01b5da82",
   "metadata": {},
   "source": [
    "# Step 3: Web Scraping Using Selenium"
   ]
  },
  {
   "cell_type": "markdown",
   "id": "f9d72a62",
   "metadata": {},
   "source": [
    "## Importing necessary libraries"
   ]
  },
  {
   "cell_type": "code",
   "execution_count": 33,
   "id": "260ed77c",
   "metadata": {},
   "outputs": [],
   "source": [
    "import logging\n",
    "from selenium import webdriver\n",
    "from selenium.webdriver.chrome.service import Service\n",
    "from webdriver_manager.chrome import ChromeDriverManager"
   ]
  },
  {
   "cell_type": "markdown",
   "id": "5ec7c0dc",
   "metadata": {},
   "source": [
    "## Setting logging level to WARNING to suppress debug logs"
   ]
  },
  {
   "cell_type": "code",
   "execution_count": 34,
   "id": "619ce8a8",
   "metadata": {},
   "outputs": [],
   "source": [
    "logging.getLogger('selenium').setLevel(logging.WARNING)"
   ]
  },
  {
   "cell_type": "markdown",
   "id": "650cd6f8",
   "metadata": {},
   "source": [
    "## Initializing WebDriver "
   ]
  },
  {
   "cell_type": "code",
   "execution_count": 35,
   "id": "ed539f96",
   "metadata": {},
   "outputs": [],
   "source": [
    "driver = webdriver.Chrome(service=Service(ChromeDriverManager().install()))"
   ]
  },
  {
   "cell_type": "markdown",
   "id": "2c7c3fbc",
   "metadata": {},
   "source": [
    "## Navigate to the page"
   ]
  },
  {
   "cell_type": "code",
   "execution_count": 36,
   "id": "a1e14940",
   "metadata": {},
   "outputs": [],
   "source": [
    "driver.get('http://books.toscrape.com/')"
   ]
  },
  {
   "cell_type": "markdown",
   "id": "644ccb8b",
   "metadata": {},
   "source": [
    "## Get the page source and parse it using BeautifulSoup"
   ]
  },
  {
   "cell_type": "code",
   "execution_count": 37,
   "id": "928e1101",
   "metadata": {},
   "outputs": [],
   "source": [
    "soup = BeautifulSoup(driver.page_source, 'html.parser')"
   ]
  },
  {
   "cell_type": "markdown",
   "id": "530dba7b",
   "metadata": {},
   "source": [
    "## Extracting book data "
   ]
  },
  {
   "cell_type": "code",
   "execution_count": 38,
   "id": "7238e182",
   "metadata": {},
   "outputs": [],
   "source": [
    "books = soup.find_all('article', class_='product_pod')\n",
    "\n",
    "book_data = []\n",
    "for book in books:\n",
    "    title = book.h3.a['title']\n",
    "    price = book.find('p', class_='price_color').text\n",
    "    availability = book.find('p', class_='instock availability').text.strip()\n",
    "    \n",
    "    book_data.append({\n",
    "        'Title': title,\n",
    "        'Price': price,\n",
    "        'Availability': availability\n",
    "    })"
   ]
  },
  {
   "cell_type": "markdown",
   "id": "e530d47d",
   "metadata": {},
   "source": [
    "## Converting to DataFrame and saving as CSV"
   ]
  },
  {
   "cell_type": "code",
   "execution_count": 39,
   "id": "ae56e8ef",
   "metadata": {},
   "outputs": [],
   "source": [
    "df_selenium = pd.DataFrame(book_data)\n",
    "df_selenium.to_csv('books_data_selenium.csv', index=False)"
   ]
  },
  {
   "cell_type": "markdown",
   "id": "22a459e7",
   "metadata": {},
   "source": [
    "## Closing the browser"
   ]
  },
  {
   "cell_type": "code",
   "execution_count": 40,
   "id": "606ac145",
   "metadata": {},
   "outputs": [],
   "source": [
    "driver.quit()"
   ]
  },
  {
   "cell_type": "markdown",
   "id": "80caba3e",
   "metadata": {},
   "source": [
    "## Displaying the first few rows of the DataFrame"
   ]
  },
  {
   "cell_type": "code",
   "execution_count": 43,
   "id": "b59793f1",
   "metadata": {},
   "outputs": [
    {
     "data": {
      "text/html": [
       "<div>\n",
       "<style scoped>\n",
       "    .dataframe tbody tr th:only-of-type {\n",
       "        vertical-align: middle;\n",
       "    }\n",
       "\n",
       "    .dataframe tbody tr th {\n",
       "        vertical-align: top;\n",
       "    }\n",
       "\n",
       "    .dataframe thead th {\n",
       "        text-align: right;\n",
       "    }\n",
       "</style>\n",
       "<table border=\"1\" class=\"dataframe\">\n",
       "  <thead>\n",
       "    <tr style=\"text-align: right;\">\n",
       "      <th></th>\n",
       "      <th>Title</th>\n",
       "      <th>Price</th>\n",
       "      <th>Availability</th>\n",
       "    </tr>\n",
       "  </thead>\n",
       "  <tbody>\n",
       "    <tr>\n",
       "      <th>0</th>\n",
       "      <td>A Light in the Attic</td>\n",
       "      <td>£51.77</td>\n",
       "      <td>In stock</td>\n",
       "    </tr>\n",
       "    <tr>\n",
       "      <th>1</th>\n",
       "      <td>Tipping the Velvet</td>\n",
       "      <td>£53.74</td>\n",
       "      <td>In stock</td>\n",
       "    </tr>\n",
       "    <tr>\n",
       "      <th>2</th>\n",
       "      <td>Soumission</td>\n",
       "      <td>£50.10</td>\n",
       "      <td>In stock</td>\n",
       "    </tr>\n",
       "    <tr>\n",
       "      <th>3</th>\n",
       "      <td>Sharp Objects</td>\n",
       "      <td>£47.82</td>\n",
       "      <td>In stock</td>\n",
       "    </tr>\n",
       "    <tr>\n",
       "      <th>4</th>\n",
       "      <td>Sapiens: A Brief History of Humankind</td>\n",
       "      <td>£54.23</td>\n",
       "      <td>In stock</td>\n",
       "    </tr>\n",
       "    <tr>\n",
       "      <th>5</th>\n",
       "      <td>The Requiem Red</td>\n",
       "      <td>£22.65</td>\n",
       "      <td>In stock</td>\n",
       "    </tr>\n",
       "    <tr>\n",
       "      <th>6</th>\n",
       "      <td>The Dirty Little Secrets of Getting Your Dream...</td>\n",
       "      <td>£33.34</td>\n",
       "      <td>In stock</td>\n",
       "    </tr>\n",
       "    <tr>\n",
       "      <th>7</th>\n",
       "      <td>The Coming Woman: A Novel Based on the Life of...</td>\n",
       "      <td>£17.93</td>\n",
       "      <td>In stock</td>\n",
       "    </tr>\n",
       "    <tr>\n",
       "      <th>8</th>\n",
       "      <td>The Boys in the Boat: Nine Americans and Their...</td>\n",
       "      <td>£22.60</td>\n",
       "      <td>In stock</td>\n",
       "    </tr>\n",
       "    <tr>\n",
       "      <th>9</th>\n",
       "      <td>The Black Maria</td>\n",
       "      <td>£52.15</td>\n",
       "      <td>In stock</td>\n",
       "    </tr>\n",
       "  </tbody>\n",
       "</table>\n",
       "</div>"
      ],
      "text/plain": [
       "                                               Title   Price Availability\n",
       "0                               A Light in the Attic  £51.77     In stock\n",
       "1                                 Tipping the Velvet  £53.74     In stock\n",
       "2                                         Soumission  £50.10     In stock\n",
       "3                                      Sharp Objects  £47.82     In stock\n",
       "4              Sapiens: A Brief History of Humankind  £54.23     In stock\n",
       "5                                    The Requiem Red  £22.65     In stock\n",
       "6  The Dirty Little Secrets of Getting Your Dream...  £33.34     In stock\n",
       "7  The Coming Woman: A Novel Based on the Life of...  £17.93     In stock\n",
       "8  The Boys in the Boat: Nine Americans and Their...  £22.60     In stock\n",
       "9                                    The Black Maria  £52.15     In stock"
      ]
     },
     "execution_count": 43,
     "metadata": {},
     "output_type": "execute_result"
    }
   ],
   "source": [
    "df_selenium.head(10)"
   ]
  },
  {
   "cell_type": "code",
   "execution_count": null,
   "id": "b017cd5b",
   "metadata": {},
   "outputs": [],
   "source": []
  }
 ],
 "metadata": {
  "kernelspec": {
   "display_name": "Python 3 (ipykernel)",
   "language": "python",
   "name": "python3"
  },
  "language_info": {
   "codemirror_mode": {
    "name": "ipython",
    "version": 3
   },
   "file_extension": ".py",
   "mimetype": "text/x-python",
   "name": "python",
   "nbconvert_exporter": "python",
   "pygments_lexer": "ipython3",
   "version": "3.9.19"
  }
 },
 "nbformat": 4,
 "nbformat_minor": 5
}
