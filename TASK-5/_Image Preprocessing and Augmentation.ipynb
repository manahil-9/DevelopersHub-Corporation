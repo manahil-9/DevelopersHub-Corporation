{
 "cells": [
  {
   "cell_type": "markdown",
   "id": "256422ea",
   "metadata": {},
   "source": [
    "# 1. IMAGE PREPROCESSING "
   ]
  },
  {
   "cell_type": "markdown",
   "id": "ef90d0b1",
   "metadata": {},
   "source": [
    "## Importing Required Libraries"
   ]
  },
  {
   "cell_type": "code",
   "execution_count": null,
   "id": "0cfb3f8e",
   "metadata": {},
   "outputs": [],
   "source": [
    "from PIL import Image\n",
    "import os\n",
    "import numpy as np\n",
    "import matplotlib.pyplot as plt\n",
    "import math\n",
    "import tensorflow as tf"
   ]
  },
  {
   "cell_type": "markdown",
   "id": "997fa38d",
   "metadata": {},
   "source": [
    "## Creating a Folder for Preprocessed Images"
   ]
  },
  {
   "cell_type": "code",
   "execution_count": null,
   "id": "ddf80fed",
   "metadata": {},
   "outputs": [],
   "source": [
    "os.makedirs(\"preprocessed_images\", exist_ok=True)"
   ]
  },
  {
   "cell_type": "markdown",
   "id": "5a6982b5",
   "metadata": {},
   "source": [
    "## Loop Through Each Image"
   ]
  },
  {
   "cell_type": "code",
   "execution_count": null,
   "id": "2390a404",
   "metadata": {},
   "outputs": [],
   "source": [
    "for filename in os.listdir(\"original_images\"):\n",
    "    if filename.endswith(('.jpg', '.jpeg', '.png', '.JPG', '.webp')):\n",
    "        img_path = os.path.join(\"original_images\", filename)"
   ]
  },
  {
   "cell_type": "markdown",
   "id": "671d60a3",
   "metadata": {},
   "source": [
    "## Opening and Converting Each Image to RGB Format"
   ]
  },
  {
   "cell_type": "code",
   "execution_count": null,
   "id": "5001d905",
   "metadata": {},
   "outputs": [],
   "source": [
    "        img = Image.open(img_path).convert(\"RGB\")"
   ]
  },
  {
   "cell_type": "markdown",
   "id": "35c43297",
   "metadata": {},
   "source": [
    "## Resizing the Image to 224x224 Pixels"
   ]
  },
  {
   "cell_type": "code",
   "execution_count": null,
   "id": "a8a34919",
   "metadata": {},
   "outputs": [],
   "source": [
    "        img = img.resize((224, 224))"
   ]
  },
  {
   "cell_type": "markdown",
   "id": "03e49a5b",
   "metadata": {},
   "source": [
    "## Normalizing the Pixel Values Between 0 and 1"
   ]
  },
  {
   "cell_type": "code",
   "execution_count": null,
   "id": "74950349",
   "metadata": {},
   "outputs": [],
   "source": [
    "        img_array = np.array(img) / 255.0\n",
    "        img = Image.fromarray((img_array * 255).astype('uint8'))"
   ]
  },
  {
   "cell_type": "markdown",
   "id": "8f35ee30",
   "metadata": {},
   "source": [
    "## Saving the Preprocessed Image"
   ]
  },
  {
   "cell_type": "code",
   "execution_count": null,
   "id": "ae402f0f",
   "metadata": {},
   "outputs": [],
   "source": [
    "        img.save(os.path.join(\"preprocessed_images\", filename))"
   ]
  },
  {
   "cell_type": "markdown",
   "id": "c259dddb",
   "metadata": {},
   "source": [
    "## Displaying Preprocessed Images"
   ]
  },
  {
   "cell_type": "markdown",
   "id": "766685af",
   "metadata": {},
   "source": [
    "### Loading preprocessed images"
   ]
  },
  {
   "cell_type": "code",
   "execution_count": null,
   "id": "ee5dfd49",
   "metadata": {},
   "outputs": [],
   "source": [
    "preprocessed_images_path = \"preprocessed_images\"\n",
    "image_files = [f for f in os.listdir(preprocessed_images_path) if f.endswith(('.jpg', '.jpeg', '.png', '.JPG', '.webp'))]"
   ]
  },
  {
   "cell_type": "markdown",
   "id": "1dd4dba1",
   "metadata": {},
   "source": [
    "### Calculating grid size"
   ]
  },
  {
   "cell_type": "code",
   "execution_count": null,
   "id": "8eddab3d",
   "metadata": {},
   "outputs": [],
   "source": [
    "num_images = len(image_files)\n",
    "cols = 5  # Number of columns\n",
    "rows = math.ceil(num_images / cols)  # Calculating number of rows needed"
   ]
  },
  {
   "cell_type": "markdown",
   "id": "e8e040aa",
   "metadata": {},
   "source": [
    "### Displaying images"
   ]
  },
  {
   "cell_type": "code",
   "execution_count": null,
   "id": "4bd09daf",
   "metadata": {
    "scrolled": false
   },
   "outputs": [],
   "source": [
    "plt.figure(figsize=(cols * 2, rows * 2))  \n",
    "plt.suptitle(\"Preprocessed Images\", fontsize=16) \n",
    "\n",
    "for i, image_file in enumerate(image_files):\n",
    "    img_path = os.path.join(preprocessed_images_path, image_file)\n",
    "    img = Image.open(img_path)\n",
    "\n",
    "    plt.subplot(rows, cols, i + 1)  \n",
    "    plt.imshow(img)\n",
    "    plt.axis('off')\n",
    "    \n",
    "    image_name = os.path.splitext(image_file)[0] \n",
    "    plt.title(image_name)\n",
    "\n",
    "plt.tight_layout()\n",
    "plt.subplots_adjust(top=0.94)\n",
    "plt.show()"
   ]
  },
  {
   "cell_type": "markdown",
   "id": "61d19b7f",
   "metadata": {},
   "source": [
    "# 2. IMAGE AUGMENTATION"
   ]
  },
  {
   "cell_type": "markdown",
   "id": "7fea0909",
   "metadata": {},
   "source": [
    "## Creating a Folder for Augmented Images"
   ]
  },
  {
   "cell_type": "code",
   "execution_count": null,
   "id": "ad378760",
   "metadata": {},
   "outputs": [],
   "source": [
    "os.makedirs(\"augmented_images\", exist_ok=True)"
   ]
  },
  {
   "cell_type": "markdown",
   "id": "5fffb646",
   "metadata": {},
   "source": [
    "## Configuring Data Augmentation Settings"
   ]
  },
  {
   "cell_type": "code",
   "execution_count": null,
   "id": "ace9a4ec",
   "metadata": {},
   "outputs": [],
   "source": [
    "datagen = tf.keras.preprocessing.image.ImageDataGenerator(\n",
    "    rotation_range=45,\n",
    "    width_shift_range=0.1,\n",
    "    height_shift_range=0.1,\n",
    "    brightness_range=[0.5, 1.5],\n",
    "    zoom_range=0.2,\n",
    "    horizontal_flip=True,\n",
    "    vertical_flip=True,\n",
    ")"
   ]
  },
  {
   "cell_type": "markdown",
   "id": "aba74e6e",
   "metadata": {},
   "source": [
    "## Loop Through Each Preprocessed Image"
   ]
  },
  {
   "cell_type": "code",
   "execution_count": null,
   "id": "f8f6f3ff",
   "metadata": {},
   "outputs": [],
   "source": [
    "for filename in os.listdir(\"preprocessed_images\"):\n",
    "    if filename.endswith(('.jpg', '.jpeg', '.png', '.JPG', '.webp')):\n",
    "        img_path = os.path.join(\"preprocessed_images\", filename)"
   ]
  },
  {
   "cell_type": "markdown",
   "id": "e05de8cf",
   "metadata": {},
   "source": [
    "## Loading the Image and Converting It to an Array"
   ]
  },
  {
   "cell_type": "code",
   "execution_count": null,
   "id": "75b9ced6",
   "metadata": {},
   "outputs": [],
   "source": [
    "        img = tf.keras.preprocessing.image.load_img(img_path)\n",
    "        img_array = tf.keras.preprocessing.image.img_to_array(img)\n",
    "        img_array = np.expand_dims(img_array, 0)"
   ]
  },
  {
   "cell_type": "markdown",
   "id": "0567a24a",
   "metadata": {},
   "source": [
    "## Generating and Saving 5 Augmented Versions of Each Image"
   ]
  },
  {
   "cell_type": "code",
   "execution_count": null,
   "id": "207b7bb0",
   "metadata": {},
   "outputs": [],
   "source": [
    "        i = 0\n",
    "        for batch in datagen.flow(img_array, batch_size=1):\n",
    "            aug_img = tf.keras.preprocessing.image.array_to_img(batch[0])\n",
    "            aug_img.save(os.path.join(\"augmented_images\", f\"{filename.split('.')[0]}_aug_{i}.png\"))\n",
    "            i += 1\n",
    "            if i >= 5:\n",
    "                break"
   ]
  },
  {
   "cell_type": "markdown",
   "id": "849e62bf",
   "metadata": {},
   "source": [
    "## Displaying the Augmented Images"
   ]
  },
  {
   "cell_type": "markdown",
   "id": "1005ff0b",
   "metadata": {},
   "source": [
    "### Lists to store original and augmented images"
   ]
  },
  {
   "cell_type": "code",
   "execution_count": null,
   "id": "089a689b",
   "metadata": {},
   "outputs": [],
   "source": [
    "original_images = []\n",
    "augmented_images = [] "
   ]
  },
  {
   "cell_type": "markdown",
   "id": "aa4a5e5a",
   "metadata": {},
   "source": [
    "### Loop through preprocessed images and augment them"
   ]
  },
  {
   "cell_type": "code",
   "execution_count": null,
   "id": "a8f29391",
   "metadata": {},
   "outputs": [],
   "source": [
    "for filename in os.listdir(\"preprocessed_images\"):\n",
    "    if filename.endswith(('.jpg', '.jpeg', '.png', '.JPG', '.webp')):\n",
    "        img_path = os.path.join(\"preprocessed_images\", filename)\n",
    "        \n",
    "        # Loading image and converting to array format\n",
    "        img = tf.keras.preprocessing.image.load_img(img_path)\n",
    "        original_images.append(img) \n",
    "        img_array = tf.keras.preprocessing.image.img_to_array(img)\n",
    "        img_array = np.expand_dims(img_array, 0)\n",
    "\n",
    "        # Creating 5 augmented versions and save each with a unique name\n",
    "        i = 0\n",
    "        for batch in datagen.flow(img_array, batch_size=1):\n",
    "            aug_img = tf.keras.preprocessing.image.array_to_img(batch[0])\n",
    "            aug_img.save(os.path.join(\"augmented_images\", f\"{filename.split('.')[0]}_aug_{i}.png\"))\n",
    "            augmented_images.append(aug_img)  \n",
    "            i += 1\n",
    "            if i >= 5:\n",
    "                break"
   ]
  },
  {
   "cell_type": "markdown",
   "id": "63e40d24",
   "metadata": {},
   "source": [
    "### Specifying the number of images to display"
   ]
  },
  {
   "cell_type": "code",
   "execution_count": null,
   "id": "8851bff3",
   "metadata": {},
   "outputs": [],
   "source": [
    "num_images_to_display = min(len(original_images), len(augmented_images) // 5)"
   ]
  },
  {
   "cell_type": "markdown",
   "id": "33ef04f5",
   "metadata": {},
   "source": [
    "### Calculating the total number of images to display (original + augmented)"
   ]
  },
  {
   "cell_type": "code",
   "execution_count": null,
   "id": "45b92ba9",
   "metadata": {},
   "outputs": [],
   "source": [
    "total_images_to_display = num_images_to_display + (num_images_to_display * 5)"
   ]
  },
  {
   "cell_type": "markdown",
   "id": "087e25af",
   "metadata": {},
   "source": [
    "### Calculating the grid size needed for displaying the images"
   ]
  },
  {
   "cell_type": "code",
   "execution_count": null,
   "id": "160f1054",
   "metadata": {},
   "outputs": [],
   "source": [
    "rows = num_images_to_display "
   ]
  },
  {
   "cell_type": "markdown",
   "id": "9c6f8cf0",
   "metadata": {},
   "source": [
    "### Displaying the original and augmented images"
   ]
  },
  {
   "cell_type": "code",
   "execution_count": null,
   "id": "67e94f6e",
   "metadata": {
    "scrolled": false
   },
   "outputs": [],
   "source": [
    "plt.figure(figsize=(15, rows * 3)) \n",
    "plt.suptitle(\"Augmented Images\", fontsize=20)  \n",
    "\n",
    "for i in range(num_images_to_display):\n",
    "    # Display original image\n",
    "    plt.subplot(rows, 6, i * 6 + 1) \n",
    "    plt.imshow(original_images[i])\n",
    "    plt.axis('off')\n",
    "    plt.title(\"Original\", fontsize=14)\n",
    "\n",
    "    # Display augmented images\n",
    "    for j in range(5):\n",
    "        plt.subplot(rows, 6, i * 6 + j + 2)  \n",
    "        plt.imshow(augmented_images[i * 5 + j])\n",
    "        plt.axis('off')\n",
    "        plt.title(f\"Aug {j + 1}\", fontsize=14)\n",
    "\n",
    "plt.tight_layout()\n",
    "plt.subplots_adjust(top=0.976)\n",
    "plt.show()"
   ]
  }
 ],
 "metadata": {
  "kernelspec": {
   "display_name": "Python 3 (ipykernel)",
   "language": "python",
   "name": "python3"
  },
  "language_info": {
   "codemirror_mode": {
    "name": "ipython",
    "version": 3
   },
   "file_extension": ".py",
   "mimetype": "text/x-python",
   "name": "python",
   "nbconvert_exporter": "python",
   "pygments_lexer": "ipython3",
   "version": "3.9.19"
  }
 },
 "nbformat": 4,
 "nbformat_minor": 5
}
