{
 "cells": [
  {
   "cell_type": "markdown",
   "id": "2686b1bd",
   "metadata": {},
   "source": [
    "# Scraping and Analyzing Dynamic Content using Selenium"
   ]
  },
  {
   "cell_type": "markdown",
   "id": "56d8fe73",
   "metadata": {},
   "source": [
    "### Importing Necessary Libraries"
   ]
  },
  {
   "cell_type": "code",
   "execution_count": 2,
   "id": "bef6275a",
   "metadata": {},
   "outputs": [],
   "source": [
    "import json\n",
    "import pandas as pd\n",
    "from selenium import webdriver\n",
    "from selenium.webdriver.common.by import By\n",
    "from selenium.webdriver.chrome.service import Service\n",
    "from webdriver_manager.chrome import ChromeDriverManager\n",
    "from selenium.webdriver.support.ui import WebDriverWait\n",
    "from selenium.webdriver.support import expected_conditions as EC\n",
    "import matplotlib.pyplot as plt\n",
    "import seaborn as sns"
   ]
  },
  {
   "cell_type": "markdown",
   "id": "07d9d9f3",
   "metadata": {},
   "source": [
    "### Setting up the Selenium WebDriver"
   ]
  },
  {
   "cell_type": "code",
   "execution_count": 3,
   "id": "422cd042",
   "metadata": {},
   "outputs": [],
   "source": [
    "options = webdriver.ChromeOptions()\n",
    "options.add_argument(\"--headless\")  # Run in headless mode for background processing\n",
    "driver = webdriver.Chrome(service=Service(ChromeDriverManager().install()), options=options)"
   ]
  },
  {
   "cell_type": "markdown",
   "id": "61094ff5",
   "metadata": {},
   "source": [
    "### Opening the Amazon makeup category page"
   ]
  },
  {
   "cell_type": "code",
   "execution_count": 4,
   "id": "ba8d5ed7",
   "metadata": {},
   "outputs": [],
   "source": [
    "url = 'https://www.amazon.com/s?k=makeup' \n",
    "driver.get(url)"
   ]
  },
  {
   "cell_type": "markdown",
   "id": "03b86df6",
   "metadata": {},
   "source": [
    "### Using WebDriverWait to wait for the product listings to load"
   ]
  },
  {
   "cell_type": "code",
   "execution_count": 5,
   "id": "b9abca36",
   "metadata": {},
   "outputs": [],
   "source": [
    "try:\n",
    "    WebDriverWait(driver, 10).until(\n",
    "        EC.presence_of_element_located((By.XPATH, '//div[contains(@data-component-type, \"s-search-result\")]'))\n",
    "    )\n",
    "except Exception as e:\n",
    "    print(\"Error loading page:\", e)\n",
    "    driver.quit()"
   ]
  },
  {
   "cell_type": "markdown",
   "id": "252fd4f2",
   "metadata": {},
   "source": [
    "### Extracting Dynamic Elements"
   ]
  },
  {
   "cell_type": "code",
   "execution_count": 6,
   "id": "358dfd3b",
   "metadata": {
    "scrolled": false
   },
   "outputs": [
    {
     "name": "stdout",
     "output_type": "stream",
     "text": [
      "Found title: essence | | Lash Princess False Lash Effect Mascara | Volumizing & Lengthening | Cruelty Free & Paraben Free\n",
      "Found rating: 4.3\n",
      "Found title: L'Oreal | Paris Makeup True Match Lumi Glotion, Natural Glow Enhancer, Illuminator Highlighter, Bronzing Drops For a Sun-Kissed Glow, 903 Medium\n",
      "Found price: $13.98\n",
      "Found rating: 4.6\n",
      "Found title: Maybelline | Lash Sensational Sky High Washable Mascara Makeup, Volumizing, Lengthening, Defining, Curling, Multiplying, Buildable Formula, Blackest Black, 1 Count\n",
      "Found price: $9.98\n",
      "Found rating: 4.5\n",
      "Found title: e.l.f. | Power Grip Primer, Gel-Based & Hydrating Face Primer For Smoothing Skin & Gripping Makeup, Moisturizes & Primes, 0.811 Fl Oz (24 ml.)\n",
      "Found price: $9.98\n",
      "Found rating: 4.6\n",
      "Found title: L'Oreal | Paris Makeup Telescopic Original Lengthening Mascara, Blackest Black, 0.27 Fl Oz (1 Count)\n",
      "Found price: $9.73\n",
      "Found rating: 4.5\n",
      "Found title: IT | Cosmetics Your Skin But Better CC+ Cream - Color Correcting Cream, Full-Coverage Foundation, Hydrating Serum & SPF 50+ Sunscreen - Natural Finish - 1.08 fl oz\n",
      "Found price: $47.00\n",
      "Found rating: 4.5\n",
      "Found title: Grande | Cosmetics GrandeLASH-MD Lash Enhancing Serum\n",
      "Found price: $36.00\n",
      "Found rating: 4.2\n",
      "Found title: NYX | PROFESSIONAL MAKEUP Epic Ink Liner, Waterproof Liquid Eyeliner - Black, Vegan Formula\n",
      "Found price: $8.13\n",
      "Found rating: 4.5\n",
      "Found title: LANEIGE | Lip Glowy Balm Hydrate, Glossy, Lightweight, Moisturize & Tint with Shea Butter\n",
      "Found price: $19.00\n",
      "Found rating: 4.7\n",
      "Found title: e.l.f. | Glow Reviver Lip Oil, Nourishing Tinted Lip Oil For A High-shine Finish, Infused With Jojoba Oil, Vegan & Cruelty-free, Rose Envy\n",
      "Found price: $8.00\n",
      "Found rating: 4.6\n",
      "Found title: e.l.f. | Monochromatic Multi Stick, Luxuriously Creamy & Blendable Color, For Eyes, Lips & Cheeks, Dazzling Peony, 0.155 Oz (4.4g)\n",
      "Found price: $5.00\n",
      "Found rating: 4.3\n",
      "Found title: Maybelline | Instant Age Rewind Eraser Dark Circles Treatment Multi-Use Concealer, 110, 1 Count (Packaging May Vary)\n",
      "Found price: $8.49\n",
      "Found rating: 4.4\n",
      "Found title: e.l.f. | No Budge Retractable Eyeliner, Creamy, Ultra-Pigmented & Waterproof, Creates Bold & Defined Lines, Vegan & Cruelty-Free, Black 0.006 Oz\n",
      "Found price: $3.49\n",
      "Found rating: 4.4\n",
      "Found title: L'Oreal | Paris Voluminous Makeup Lash Paradise Mascara, Voluptuous Volume, Intense Length, Feathery Soft Full Lashes, No Flaking, No Smudging, No Clumping, Blackest Black, 1 Count\n",
      "Found price: $9.96\n",
      "Found rating: 4.4\n",
      "Found title: Neutrogena | Makeup Remover Wipes, Individually Wrapped Daily Face Wipes for Waterproof Makeup, Travel & On-the-Go Singles, 20 Count\n",
      "Found price: $6.88\n",
      "Found rating: 4.8\n",
      "Found title: NYX | PROFESSIONAL MAKEUP Mechanical Eye Pencil,Vivid Rich Mechanical, Creamy Retractable Eyeliner - Always Onyx, Black Eyeliner\n",
      "Found price: $6.89\n",
      "Found rating: 4.5\n",
      "Found title: NYX | PROFESSIONAL MAKEUP Fat Oil Lip Drip, Moisturizing, Shiny and Vegan Tinted Lip Gloss - Missed Call (Sheer Pink)\n",
      "Found price: $8.97\n",
      "Found rating: 4.5\n",
      "Found title: Neutrogena | Makeup Remover Wipes, Ultra-Soft Cleansing Facial Towelettes for Waterproof Makeup, Alcohol-Free, Plant-Based, Twin Pack, 25 Count (Pack of 2)\n",
      "Found price: $9.97\n",
      "Found rating: 4.8\n",
      "Found title: 8 | Pieces Triangle Powder Puff Face Soft Triangle Makeup Puff Velour Cosmetic Foundation Blender Sponge Beauty Makeup Tools\n",
      "Found price: $3.99\n",
      "Found rating: 4.6\n",
      "Found title: NYX | PROFESSIONAL MAKEUP The Brow Glue, Extreme Hold Eyebrow Gel - Clear\n",
      "Found price: $9.97\n",
      "Found rating: 4.3\n",
      "Found title: e.l.f., | Instant Lift Brow Pencil, Dual-Sided, Precise, Fine Tip, Shapes, Defines, Fills Brows, Contours, Combs, Tames, Neutral Brown, 0.006 Oz\n",
      "Found price: $3.00\n",
      "Found rating: 4.5\n",
      "Found title: NYX | PROFESSIONAL MAKEUP Jumbo Eye Pencil, Blendable Eyeshadow Stick & Eyeliner Pencil - Milk\n",
      "Found price: $5.85\n",
      "Found rating: 4.3\n",
      "Found title: e.l.f. | Poreless Face Primer, Restoring Makeup Primer For A Flawless, Smooth Canvas, Infused With Tea Tree & Vitamin A, Vegan & Cruelty-Free, 0.47 Fl Oz\n",
      "Found price: $7.83\n",
      "Found rating: 4.4\n",
      "Found title: e.l.f. | Hydrating Camo Concealer, Lightweight, Full Coverage, Long Lasting, Conceals, Corrects, Covers, Hydrates, Highlights, Light Sand, Satin Finish, 25 Shades, All-Day Wear, 0.20 Fl Oz\n",
      "Found price: $7.00\n",
      "Found rating: 4.4\n",
      "Found title: Revlon | ColorStay Pencil Waterproof Eyeliner, Smudge-Proof, Eye Makeup with Built-In Sharpener, Packaging May Vary, 201 Black, 2 pack\n",
      "Found price: $11.38\n",
      "Found rating: 4.5\n",
      "Found title: Maybelline | Hyper Easy Liquid Pen No-Skip Eyeliner, Satin Finish, Waterproof Formula, Pitch Black, 0.018 Fl Oz\n",
      "Found price: $8.38\n",
      "Found rating: 4.3\n",
      "Found title: Maybelline | Fit Me Matte + Poreless Pressed Face Powder Makeup & Setting Powder, Classic Ivory, 1 Count\n",
      "Found price: $8.68\n",
      "Found rating: 4.6\n",
      "Found title: IT | Cosmetics Your Skin But Better CC+ Cream Illumination - Color Correcting Cream, Full-Coverage Foundation, Hydrating Serum & SPF 50+ Sunscreen Radiant Finish 1.08 fl oz\n",
      "Found price: $47.00\n",
      "Found rating: 4.5\n",
      "Found title: NYX | PROFESSIONAL MAKEUP Butter Gloss, Non-Sticky Lip Gloss - Praline (Deep Nude)\n",
      "Found price: $5.97\n",
      "Found rating: 4.5\n",
      "Found title: L'Oreal | Paris Makeup Infallible Pro-Matte Liquid Longwear Foundation, 105 Natural Beige, 1 fl; oz.\n",
      "Found price: $9.92\n",
      "Found rating: 4.5\n",
      "Found title: CoverGirl | & Olay Simply Ageless 3-in-1 Liquid Foundation, Matte Finish, Hyaluronic & Vitamin C Formula, Cruelty Free, Creamy Natural, 1 Count\n",
      "Found price: $14.52\n",
      "Found rating: 4.5\n",
      "Found title: e.l.f. | Flawless Finish Foundation, Improves Uneven Skin Tone, Lightweight, Medium Coverage & Semi-Matte, Vegan & Cruelty-Free, Beige 0.68 Fl Oz\n",
      "Found price: $6.00\n",
      "Found rating: 4.3\n",
      "Found title: Garnier | Micellar Water For Waterproof Makeup, Hydrating Facial Cleanser & Makeup Remover, Suitable for Sensitive Skin, Vegan, Cruelty Free, 13.5 Fl Oz (400mL), 1 Count\n",
      "Found price: $8.97\n",
      "Found rating: 4.7\n",
      "Found title: Maybelline | Lash Sensational Washable Mascara, Lengthening and Volumizing for a Full Fan Effect, Blackest Black, 1 Count\n",
      "Found price: $8.22\n",
      "Found rating: 4.5\n",
      "Found title: e.l.f. | Power Grip Primer + 4% Niacinamide, Gel-Based & Hydrating Face Primer, Evens Skin & Brightens, Grips Makeup, Vegan & Cruelty-Free, 0.8 Fl Oz\n",
      "Found price: $9.88\n",
      "Found rating: 4.6\n",
      "Found title: e.l.f., | Matte Magic Mist & Set - Small, Lightweight, Long Lasting, Mattifying, Revitalizes, Controls Shine, Refreshes, Hydrates, All-Day Wear, 2.0 Fl Oz\n",
      "Found price: $6.00\n",
      "Found rating: 4.5\n",
      "Found title: Maybelline | Super Stay Vinyl Ink Longwear No-Budge Liquid Lipcolor Makeup, Highly Pigmented Color and Instant Shine, Lippy, Cranberry Red Lipstick, 0.14 fl oz, 1 Count\n",
      "Found price: $9.98\n",
      "Found rating: 4.3\n",
      "Found title: COVERGIRL+OLAY | Simply Ageless Instant Wrinkle-Defying Foundation, 205 Ivory\n",
      "Found price: $11.47\n",
      "Found rating: 4.5\n",
      "Found title: e.l.f. | Halo Glow Liquid Filter, Complexion Booster For A Glowing, Soft-Focus Look, Infused With Hyaluronic Acid, Vegan & Cruelty-Free, 5 Medium/Tan\n",
      "Found price: $14.00\n",
      "Found rating: 4.5\n",
      "Found title: CeraVe | Cleansing Balm for Sensitive Skin | Hydrating Makeup Remover with Ceramides and Plant-based Jojoba Oil for Face | Non-Comedogenic Fragrance Free Non-Greasy |1.3 Ounces\n",
      "Found price: $9.97\n",
      "Found rating: 4.4\n",
      "Found title: e.l.f. | Perfect Finish HD Powder, Blurs Fine Lines & Imperfections, All Day Wear, Perfect for On The Go, 0.28 Oz\n",
      "Found price: $6.00\n",
      "Found rating: 4.4\n",
      "Found title: Almay | Anti-Aging Foundation, Smart Shade Face Makeup with Hyaluronic Acid, Niacinamide, Vitamin C & E, Hypoallergenic-Fragrance Free, 300 Medium, 1 Fl Oz (Pack of 1)\n",
      "Found price: $6.79\n",
      "Found rating: 4.3\n",
      "Found title: L'Oréal | Paris Makeup Magic Skin Beautifier BB Cream Tinted Moisturizer, Anti-Redness, 1 fl oz, 1 Count\n",
      "Found price: $9.98\n",
      "Found rating: 4.3\n",
      "Found title: CoverGirl | Aquasmooth SPF 20 Compact Foundation, 725 Buff Beige, 0.4 Ounce\n",
      "Found price: $9.88\n",
      "Found rating: 4.8\n",
      "Found title: Maybelline | New York Fit Me Liquid Concealer Makeup, Natural Coverage, Lightweight, Conceals, Covers Oil-Free, Fair, 1 Count (Packaging May Vary)\n",
      "Found price: $6.90\n",
      "Found rating: 4.4\n",
      "Found title: Maybelline | Fit Me Matte + Poreless Liquid Oil-Free Foundation Makeup, Classic Ivory, 1 Count (Packaging May Vary)\n",
      "Found price: $8.62\n",
      "Found rating: 4.5\n",
      "Found title: L'Oreal | Paris Colour Riche Original Creamy, Hydrating Satin Lipstick with Argan Oil and Vitamin E, Fairest Nude , 1 Count\n",
      "Found price: $6.99\n",
      "Found rating: 4.4\n",
      "Found title: L’Oreal | Paris Makeup Voluminous Original Volume Building Waterproof Mascara, Carbon Black, 0.23 Fl Oz\n",
      "Found price: $8.98\n",
      "Found rating: 4.4\n"
     ]
    }
   ],
   "source": [
    "products = driver.find_elements(By.XPATH, '//div[contains(@data-component-type, \"s-search-result\")]')\n",
    "\n",
    "data = []\n",
    "\n",
    "for product in products:\n",
    "    # Extracting product title\n",
    "    try:\n",
    "        title_element = product.find_element(By.XPATH, './/h2/a/span').text\n",
    "        # Formatting title to include brand and product name using pipe separator\n",
    "        title_parts = title_element.split(' ', 1) \n",
    "        if len(title_parts) > 1:\n",
    "            formatted_title = f\"{title_parts[0]} | {title_parts[1]}\"\n",
    "        else:\n",
    "            formatted_title = title_element  \n",
    "        print(\"Found title:\", formatted_title) \n",
    "    except Exception as e:\n",
    "        formatted_title = \"N/A\"\n",
    "\n",
    "    # Extracting price\n",
    "    try:\n",
    "        price_whole = product.find_element(By.XPATH, './/span[@class=\"a-price-whole\"]').text\n",
    "        price_fraction = product.find_element(By.XPATH, './/span[@class=\"a-price-fraction\"]').text\n",
    "        price = f\"${price_whole}.{price_fraction}\"  \n",
    "        print(\"Found price:\", price)  \n",
    "    except Exception as e:\n",
    "        price = \"N/A\"\n",
    "\n",
    "    # Extracting ratings\n",
    "    try:\n",
    "        rating_element = product.find_element(By.XPATH, './/span[contains(@class, \"a-icon-alt\")]')\n",
    "        rating_text = rating_element.get_attribute(\"innerText\") \n",
    "        rating = rating_text.split()[0] \n",
    "        print(\"Found rating:\", rating)  \n",
    "    except Exception as e:\n",
    "        rating = \"No rating\"\n",
    "\n",
    "    # Append the extracted data to the list\n",
    "    data.append({\n",
    "        'Title': formatted_title,\n",
    "        'Price': price,\n",
    "        'Rating': rating,\n",
    "    })"
   ]
  },
  {
   "cell_type": "markdown",
   "id": "d86d4e2b",
   "metadata": {},
   "source": [
    "### Creating DataFrame and saving it in CSV format"
   ]
  },
  {
   "cell_type": "code",
   "execution_count": 7,
   "id": "739fa433",
   "metadata": {},
   "outputs": [],
   "source": [
    "df = pd.DataFrame(data)\n",
    "df.to_csv('amazon_makeup_products.csv', index=False)"
   ]
  },
  {
   "cell_type": "markdown",
   "id": "4b3d0c76",
   "metadata": {},
   "source": [
    "### Closing the WebDriver"
   ]
  },
  {
   "cell_type": "code",
   "execution_count": 8,
   "id": "dd4f4513",
   "metadata": {},
   "outputs": [
    {
     "name": "stdout",
     "output_type": "stream",
     "text": [
      "Data scraped from Amazon and saved in CSV format.\n"
     ]
    }
   ],
   "source": [
    "driver.quit()\n",
    "print(\"Data scraped from Amazon and saved in CSV format.\")"
   ]
  },
  {
   "cell_type": "markdown",
   "id": "d82c2956",
   "metadata": {},
   "source": [
    "### Checking if the DataFrame is empty and print its contents"
   ]
  },
  {
   "cell_type": "code",
   "execution_count": 10,
   "id": "5cf01a7b",
   "metadata": {},
   "outputs": [
    {
     "name": "stdout",
     "output_type": "stream",
     "text": [
      "Scraped data preview:\n",
      "                                                Title   Price Rating\n",
      "0  essence | | Lash Princess False Lash Effect Ma...     N/A    4.3\n",
      "1  L'Oreal | Paris Makeup True Match Lumi Glotion...  $13.98    4.6\n",
      "2  Maybelline | Lash Sensational Sky High Washabl...   $9.98    4.5\n",
      "3  e.l.f. | Power Grip Primer, Gel-Based & Hydrat...   $9.98    4.6\n",
      "4  L'Oreal | Paris Makeup Telescopic Original Len...   $9.73    4.5\n"
     ]
    }
   ],
   "source": [
    "if df.empty:\n",
    "    print(\"DataFrame is empty. Please check the scraping logic.\")\n",
    "else:\n",
    "    print(\"Scraped data preview:\\n\", df.head()) "
   ]
  },
  {
   "cell_type": "markdown",
   "id": "39da7d6e",
   "metadata": {},
   "source": [
    "### Loading the Scraped Dataset"
   ]
  },
  {
   "cell_type": "code",
   "execution_count": 63,
   "id": "56d09615",
   "metadata": {},
   "outputs": [],
   "source": [
    "df = pd.read_csv('amazon_makeup_products.csv')  "
   ]
  },
  {
   "cell_type": "code",
   "execution_count": 64,
   "id": "8f183d7a",
   "metadata": {},
   "outputs": [
    {
     "data": {
      "text/html": [
       "<div>\n",
       "<style scoped>\n",
       "    .dataframe tbody tr th:only-of-type {\n",
       "        vertical-align: middle;\n",
       "    }\n",
       "\n",
       "    .dataframe tbody tr th {\n",
       "        vertical-align: top;\n",
       "    }\n",
       "\n",
       "    .dataframe thead th {\n",
       "        text-align: right;\n",
       "    }\n",
       "</style>\n",
       "<table border=\"1\" class=\"dataframe\">\n",
       "  <thead>\n",
       "    <tr style=\"text-align: right;\">\n",
       "      <th></th>\n",
       "      <th>Title</th>\n",
       "      <th>Price</th>\n",
       "      <th>Rating</th>\n",
       "    </tr>\n",
       "  </thead>\n",
       "  <tbody>\n",
       "    <tr>\n",
       "      <th>0</th>\n",
       "      <td>essence | | Lash Princess False Lash Effect Ma...</td>\n",
       "      <td>NaN</td>\n",
       "      <td>4.3</td>\n",
       "    </tr>\n",
       "    <tr>\n",
       "      <th>1</th>\n",
       "      <td>L'Oreal | Paris Makeup True Match Lumi Glotion...</td>\n",
       "      <td>$13.98</td>\n",
       "      <td>4.6</td>\n",
       "    </tr>\n",
       "    <tr>\n",
       "      <th>2</th>\n",
       "      <td>Maybelline | Lash Sensational Sky High Washabl...</td>\n",
       "      <td>$9.98</td>\n",
       "      <td>4.5</td>\n",
       "    </tr>\n",
       "    <tr>\n",
       "      <th>3</th>\n",
       "      <td>e.l.f. | Power Grip Primer, Gel-Based &amp; Hydrat...</td>\n",
       "      <td>$9.98</td>\n",
       "      <td>4.6</td>\n",
       "    </tr>\n",
       "    <tr>\n",
       "      <th>4</th>\n",
       "      <td>L'Oreal | Paris Makeup Telescopic Original Len...</td>\n",
       "      <td>$9.73</td>\n",
       "      <td>4.5</td>\n",
       "    </tr>\n",
       "  </tbody>\n",
       "</table>\n",
       "</div>"
      ],
      "text/plain": [
       "                                               Title   Price  Rating\n",
       "0  essence | | Lash Princess False Lash Effect Ma...     NaN     4.3\n",
       "1  L'Oreal | Paris Makeup True Match Lumi Glotion...  $13.98     4.6\n",
       "2  Maybelline | Lash Sensational Sky High Washabl...   $9.98     4.5\n",
       "3  e.l.f. | Power Grip Primer, Gel-Based & Hydrat...   $9.98     4.6\n",
       "4  L'Oreal | Paris Makeup Telescopic Original Len...   $9.73     4.5"
      ]
     },
     "execution_count": 64,
     "metadata": {},
     "output_type": "execute_result"
    }
   ],
   "source": [
    "df.head()"
   ]
  },
  {
   "cell_type": "markdown",
   "id": "9c8746a9",
   "metadata": {},
   "source": [
    "### Checking for Missing Values"
   ]
  },
  {
   "cell_type": "code",
   "execution_count": 65,
   "id": "997858af",
   "metadata": {},
   "outputs": [
    {
     "data": {
      "text/plain": [
       "Title     0\n",
       "Price     1\n",
       "Rating    0\n",
       "dtype: int64"
      ]
     },
     "execution_count": 65,
     "metadata": {},
     "output_type": "execute_result"
    }
   ],
   "source": [
    "df.isnull().sum()"
   ]
  },
  {
   "cell_type": "markdown",
   "id": "b5f58e07",
   "metadata": {},
   "source": [
    "### Dropping rows where price is missing"
   ]
  },
  {
   "cell_type": "code",
   "execution_count": 66,
   "id": "3c1da220",
   "metadata": {},
   "outputs": [],
   "source": [
    "df = df.dropna(subset=['Price'])"
   ]
  },
  {
   "cell_type": "markdown",
   "id": "ee44d245",
   "metadata": {},
   "source": [
    "### Checking for Duplicate Values"
   ]
  },
  {
   "cell_type": "code",
   "execution_count": 67,
   "id": "37449a7a",
   "metadata": {},
   "outputs": [
    {
     "data": {
      "text/plain": [
       "0"
      ]
     },
     "execution_count": 67,
     "metadata": {},
     "output_type": "execute_result"
    }
   ],
   "source": [
    "df.duplicated().sum()"
   ]
  },
  {
   "cell_type": "markdown",
   "id": "92b25be6",
   "metadata": {},
   "source": [
    "### Cleaning the Price column"
   ]
  },
  {
   "cell_type": "code",
   "execution_count": 78,
   "id": "a6efa80c",
   "metadata": {},
   "outputs": [],
   "source": [
    "# Removing dollar signs\n",
    "df['Price'] = df['Price'].astype(str).str.replace('$', '', regex=False)  \n",
    "# Keeping only numbers and decimal points\n",
    "df['Price'] = df['Price'].str.replace(r'[^0-9.]', '', regex=True) \n",
    "# Converting to numeric, coercing errors\n",
    "df['Price'] = pd.to_numeric(df['Price'], errors='coerce')"
   ]
  },
  {
   "cell_type": "markdown",
   "id": "e6b05448",
   "metadata": {},
   "source": [
    "### Checking the Data Types"
   ]
  },
  {
   "cell_type": "code",
   "execution_count": 80,
   "id": "5f56f4d8",
   "metadata": {},
   "outputs": [
    {
     "name": "stdout",
     "output_type": "stream",
     "text": [
      "Title      object\n",
      "Price     float64\n",
      "Rating    float64\n",
      "dtype: object\n"
     ]
    }
   ],
   "source": [
    "print(df.dtypes)"
   ]
  },
  {
   "cell_type": "markdown",
   "id": "8f0ef8dc",
   "metadata": {},
   "source": [
    "### Summary statistics"
   ]
  },
  {
   "cell_type": "code",
   "execution_count": 84,
   "id": "2fadd5a0",
   "metadata": {},
   "outputs": [
    {
     "data": {
      "text/html": [
       "<div>\n",
       "<style scoped>\n",
       "    .dataframe tbody tr th:only-of-type {\n",
       "        vertical-align: middle;\n",
       "    }\n",
       "\n",
       "    .dataframe tbody tr th {\n",
       "        vertical-align: top;\n",
       "    }\n",
       "\n",
       "    .dataframe thead th {\n",
       "        text-align: right;\n",
       "    }\n",
       "</style>\n",
       "<table border=\"1\" class=\"dataframe\">\n",
       "  <thead>\n",
       "    <tr style=\"text-align: right;\">\n",
       "      <th></th>\n",
       "      <th>Price</th>\n",
       "      <th>Rating</th>\n",
       "    </tr>\n",
       "  </thead>\n",
       "  <tbody>\n",
       "    <tr>\n",
       "      <th>count</th>\n",
       "      <td>47.000000</td>\n",
       "      <td>47.000000</td>\n",
       "    </tr>\n",
       "    <tr>\n",
       "      <th>mean</th>\n",
       "      <td>10.927021</td>\n",
       "      <td>4.478723</td>\n",
       "    </tr>\n",
       "    <tr>\n",
       "      <th>std</th>\n",
       "      <td>9.124134</td>\n",
       "      <td>0.139776</td>\n",
       "    </tr>\n",
       "    <tr>\n",
       "      <th>min</th>\n",
       "      <td>3.000000</td>\n",
       "      <td>4.200000</td>\n",
       "    </tr>\n",
       "    <tr>\n",
       "      <th>25%</th>\n",
       "      <td>6.895000</td>\n",
       "      <td>4.400000</td>\n",
       "    </tr>\n",
       "    <tr>\n",
       "      <th>50%</th>\n",
       "      <td>8.970000</td>\n",
       "      <td>4.500000</td>\n",
       "    </tr>\n",
       "    <tr>\n",
       "      <th>75%</th>\n",
       "      <td>9.980000</td>\n",
       "      <td>4.500000</td>\n",
       "    </tr>\n",
       "    <tr>\n",
       "      <th>max</th>\n",
       "      <td>47.000000</td>\n",
       "      <td>4.800000</td>\n",
       "    </tr>\n",
       "  </tbody>\n",
       "</table>\n",
       "</div>"
      ],
      "text/plain": [
       "           Price     Rating\n",
       "count  47.000000  47.000000\n",
       "mean   10.927021   4.478723\n",
       "std     9.124134   0.139776\n",
       "min     3.000000   4.200000\n",
       "25%     6.895000   4.400000\n",
       "50%     8.970000   4.500000\n",
       "75%     9.980000   4.500000\n",
       "max    47.000000   4.800000"
      ]
     },
     "execution_count": 84,
     "metadata": {},
     "output_type": "execute_result"
    }
   ],
   "source": [
    "df.describe()"
   ]
  },
  {
   "cell_type": "markdown",
   "id": "60cef867",
   "metadata": {},
   "source": [
    "### Calculating Average Price and Rating"
   ]
  },
  {
   "cell_type": "code",
   "execution_count": 126,
   "id": "0223e071",
   "metadata": {},
   "outputs": [
    {
     "name": "stdout",
     "output_type": "stream",
     "text": [
      "\n",
      "Average Price: $10.93\n",
      "Average Rating: 4.48 stars\n"
     ]
    }
   ],
   "source": [
    "average_price = df['Price'].mean()\n",
    "average_rating = df['Rating'].mean()\n",
    "print(f\"\\nAverage Price: ${average_price:.2f}\")\n",
    "print(f\"Average Rating: {average_rating:.2f} stars\")"
   ]
  },
  {
   "cell_type": "markdown",
   "id": "dc1fffda",
   "metadata": {},
   "source": [
    "## Price Distribution"
   ]
  },
  {
   "cell_type": "code",
   "execution_count": 125,
   "id": "4577e33f",
   "metadata": {},
   "outputs": [
    {
     "data": {
      "image/png": "[encoded data removed]",
      "text/plain": [
       "<Figure size 1000x600 with 1 Axes>"
      ]
     },
     "metadata": {},
     "output_type": "display_data"
    }
   ],
   "source": [
    "# Setting up a plain style for visualization\n",
    "sns.set(style=\"white\")\n",
    "\n",
    "plt.figure(figsize=(10, 6))\n",
    "sns.histplot(df['Price'], bins=20, kde=True, color='darkred')\n",
    "plt.title('Price Distribution of Amazon Makeup Products')\n",
    "plt.xlabel('Price ($)')\n",
    "plt.ylabel('Frequency')\n",
    "plt.show()"
   ]
  },
  {
   "cell_type": "markdown",
   "id": "5b448c92",
   "metadata": {},
   "source": [
    "## Rating Distribution"
   ]
  },
  {
   "cell_type": "code",
   "execution_count": 107,
   "id": "3b92e818",
   "metadata": {},
   "outputs": [
    {
     "data": {
      "image/png": "[encoded data removed]",
      "text/plain": [
       "<Figure size 1000x600 with 1 Axes>"
      ]
     },
     "metadata": {},
     "output_type": "display_data"
    }
   ],
   "source": [
    "plt.figure(figsize=(10, 6))\n",
    "sns.histplot(df['Rating'], bins=10, kde=True, color='green')\n",
    "plt.title('Rating Distribution of Amazon Makeup Products')\n",
    "plt.xlabel('Rating (Stars)')\n",
    "plt.ylabel('Frequency')\n",
    "plt.show()"
   ]
  },
  {
   "cell_type": "markdown",
   "id": "63b18124",
   "metadata": {},
   "source": [
    "## Price vs. Rating "
   ]
  },
  {
   "cell_type": "code",
   "execution_count": 124,
   "id": "4a638647",
   "metadata": {},
   "outputs": [
    {
     "data": {
      "image/png": "[encoded data removed]",
      "text/plain": [
       "<Figure size 1000x600 with 1 Axes>"
      ]
     },
     "metadata": {},
     "output_type": "display_data"
    }
   ],
   "source": [
    "plt.figure(figsize=(10, 6))\n",
    "sns.scatterplot(data=df, x='Price', y='Rating', hue='Rating', palette='dark', size='Price', sizes=(20, 200), edgecolor='w')\n",
    "plt.title('Price vs. Rating of Amazon Makeup Products')\n",
    "plt.xlabel('Price ($)')\n",
    "plt.ylabel('Rating (Stars)')\n",
    "plt.legend(bbox_to_anchor=(1.05, 1), loc='upper left')\n",
    "plt.show()"
   ]
  }
 ],
 "metadata": {
  "kernelspec": {
   "display_name": "Python 3 (ipykernel)",
   "language": "python",
   "name": "python3"
  },
  "language_info": {
   "codemirror_mode": {
    "name": "ipython",
    "version": 3
   },
   "file_extension": ".py",
   "mimetype": "text/x-python",
   "name": "python",
   "nbconvert_exporter": "python",
   "pygments_lexer": "ipython3",
   "version": "3.9.19"
  }
 },
 "nbformat": 4,
 "nbformat_minor": 5
}
