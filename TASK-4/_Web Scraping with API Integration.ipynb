{
 "cells": [
  {
   "cell_type": "markdown",
   "id": "627966fb",
   "metadata": {},
   "source": [
    "# Web Scraping with API Integration"
   ]
  },
  {
   "cell_type": "markdown",
   "id": "0e4376b6",
   "metadata": {},
   "source": [
    "### Importing Necessary Libraries"
   ]
  },
  {
   "cell_type": "code",
   "execution_count": 1,
   "id": "fd4b7598",
   "metadata": {},
   "outputs": [],
   "source": [
    "import requests\n",
    "import pandas as pd\n",
    "import matplotlib.pyplot as plt"
   ]
  },
  {
   "cell_type": "markdown",
   "id": "a6baaa8a",
   "metadata": {},
   "source": [
    "### Defining the GitHub Username and API URL"
   ]
  },
  {
   "cell_type": "code",
   "execution_count": 2,
   "id": "b8e6d7e7",
   "metadata": {},
   "outputs": [],
   "source": [
    "username = 'suhasmaddali' \n",
    "url = f'https://api.github.com/users/{username}/repos'"
   ]
  },
  {
   "cell_type": "markdown",
   "id": "8441101a",
   "metadata": {},
   "source": [
    "### Sending the API Request to Get the Data"
   ]
  },
  {
   "cell_type": "code",
   "execution_count": 3,
   "id": "90fd32f1",
   "metadata": {},
   "outputs": [],
   "source": [
    "response = requests.get(url)"
   ]
  },
  {
   "cell_type": "markdown",
   "id": "9d6cd1df",
   "metadata": {},
   "source": [
    "###  Checking if the Request was Successful"
   ]
  },
  {
   "cell_type": "code",
   "execution_count": 4,
   "id": "ad48415d",
   "metadata": {},
   "outputs": [
    {
     "name": "stdout",
     "output_type": "stream",
     "text": [
      "Request successful!\n"
     ]
    }
   ],
   "source": [
    "if response.status_code == 200:\n",
    "    print(\"Request successful!\")\n",
    "else:\n",
    "    print(f\"Failed to retrieve data. Status code: {response.status_code}\")"
   ]
  },
  {
   "cell_type": "markdown",
   "id": "eb7c3a89",
   "metadata": {},
   "source": [
    "### Converting the JSON Data into a Pandas DataFrame"
   ]
  },
  {
   "cell_type": "code",
   "execution_count": 5,
   "id": "647bb2d2",
   "metadata": {},
   "outputs": [],
   "source": [
    "# Converting the JSON response to a Python dictionary\n",
    "repos_data = response.json()\n",
    "\n",
    "# Converting the dictionary to a DataFrame\n",
    "repos_df = pd.DataFrame(repos_data)"
   ]
  },
  {
   "cell_type": "markdown",
   "id": "65c0bafb",
   "metadata": {},
   "source": [
    "### Displaying the Data "
   ]
  },
  {
   "cell_type": "code",
   "execution_count": 6,
   "id": "4e8e45d3",
   "metadata": {},
   "outputs": [
    {
     "data": {
      "text/html": [
       "<div>\n",
       "<style scoped>\n",
       "    .dataframe tbody tr th:only-of-type {\n",
       "        vertical-align: middle;\n",
       "    }\n",
       "\n",
       "    .dataframe tbody tr th {\n",
       "        vertical-align: top;\n",
       "    }\n",
       "\n",
       "    .dataframe thead th {\n",
       "        text-align: right;\n",
       "    }\n",
       "</style>\n",
       "<table border=\"1\" class=\"dataframe\">\n",
       "  <thead>\n",
       "    <tr style=\"text-align: right;\">\n",
       "      <th></th>\n",
       "      <th>id</th>\n",
       "      <th>node_id</th>\n",
       "      <th>name</th>\n",
       "      <th>full_name</th>\n",
       "      <th>private</th>\n",
       "      <th>owner</th>\n",
       "      <th>html_url</th>\n",
       "      <th>description</th>\n",
       "      <th>fork</th>\n",
       "      <th>url</th>\n",
       "      <th>...</th>\n",
       "      <th>license</th>\n",
       "      <th>allow_forking</th>\n",
       "      <th>is_template</th>\n",
       "      <th>web_commit_signoff_required</th>\n",
       "      <th>topics</th>\n",
       "      <th>visibility</th>\n",
       "      <th>forks</th>\n",
       "      <th>open_issues</th>\n",
       "      <th>watchers</th>\n",
       "      <th>default_branch</th>\n",
       "    </tr>\n",
       "  </thead>\n",
       "  <tbody>\n",
       "    <tr>\n",
       "      <th>0</th>\n",
       "      <td>432516790</td>\n",
       "      <td>R_kgDOGceutg</td>\n",
       "      <td>Academic-Transcripts</td>\n",
       "      <td>suhasmaddali/Academic-Transcripts</td>\n",
       "      <td>False</td>\n",
       "      <td>{'login': 'suhasmaddali', 'id': 53935116, 'nod...</td>\n",
       "      <td>https://github.com/suhasmaddali/Academic-Trans...</td>\n",
       "      <td>This repository contains academic transcripts....</td>\n",
       "      <td>False</td>\n",
       "      <td>https://api.github.com/repos/suhasmaddali/Acad...</td>\n",
       "      <td>...</td>\n",
       "      <td>None</td>\n",
       "      <td>True</td>\n",
       "      <td>False</td>\n",
       "      <td>False</td>\n",
       "      <td>[]</td>\n",
       "      <td>public</td>\n",
       "      <td>0</td>\n",
       "      <td>0</td>\n",
       "      <td>1</td>\n",
       "      <td>main</td>\n",
       "    </tr>\n",
       "    <tr>\n",
       "      <th>1</th>\n",
       "      <td>442602945</td>\n",
       "      <td>R_kgDOGmGVwQ</td>\n",
       "      <td>Adare-Restaurant-Webpage</td>\n",
       "      <td>suhasmaddali/Adare-Restaurant-Webpage</td>\n",
       "      <td>False</td>\n",
       "      <td>{'login': 'suhasmaddali', 'id': 53935116, 'nod...</td>\n",
       "      <td>https://github.com/suhasmaddali/Adare-Restaura...</td>\n",
       "      <td>A website is designed with HTML5 and CSS3 to h...</td>\n",
       "      <td>False</td>\n",
       "      <td>https://api.github.com/repos/suhasmaddali/Adar...</td>\n",
       "      <td>...</td>\n",
       "      <td>None</td>\n",
       "      <td>True</td>\n",
       "      <td>False</td>\n",
       "      <td>False</td>\n",
       "      <td>[]</td>\n",
       "      <td>public</td>\n",
       "      <td>0</td>\n",
       "      <td>0</td>\n",
       "      <td>1</td>\n",
       "      <td>main</td>\n",
       "    </tr>\n",
       "    <tr>\n",
       "      <th>2</th>\n",
       "      <td>430258554</td>\n",
       "      <td>R_kgDOGaU5eg</td>\n",
       "      <td>Airbnb-Home-Prices-Prediction</td>\n",
       "      <td>suhasmaddali/Airbnb-Home-Prices-Prediction</td>\n",
       "      <td>False</td>\n",
       "      <td>{'login': 'suhasmaddali', 'id': 53935116, 'nod...</td>\n",
       "      <td>https://github.com/suhasmaddali/Airbnb-Home-Pr...</td>\n",
       "      <td>In this project, the housing prices from Airbn...</td>\n",
       "      <td>False</td>\n",
       "      <td>https://api.github.com/repos/suhasmaddali/Airb...</td>\n",
       "      <td>...</td>\n",
       "      <td>None</td>\n",
       "      <td>True</td>\n",
       "      <td>False</td>\n",
       "      <td>False</td>\n",
       "      <td>[]</td>\n",
       "      <td>public</td>\n",
       "      <td>1</td>\n",
       "      <td>0</td>\n",
       "      <td>4</td>\n",
       "      <td>main</td>\n",
       "    </tr>\n",
       "    <tr>\n",
       "      <th>3</th>\n",
       "      <td>580535839</td>\n",
       "      <td>R_kgDOIppGHw</td>\n",
       "      <td>Airline-Twitter-Sentiment-Prediction</td>\n",
       "      <td>suhasmaddali/Airline-Twitter-Sentiment-Prediction</td>\n",
       "      <td>False</td>\n",
       "      <td>{'login': 'suhasmaddali', 'id': 53935116, 'nod...</td>\n",
       "      <td>https://github.com/suhasmaddali/Airline-Twitte...</td>\n",
       "      <td>This coding repository showcases various featu...</td>\n",
       "      <td>False</td>\n",
       "      <td>https://api.github.com/repos/suhasmaddali/Airl...</td>\n",
       "      <td>...</td>\n",
       "      <td>None</td>\n",
       "      <td>True</td>\n",
       "      <td>False</td>\n",
       "      <td>False</td>\n",
       "      <td>[]</td>\n",
       "      <td>public</td>\n",
       "      <td>0</td>\n",
       "      <td>0</td>\n",
       "      <td>2</td>\n",
       "      <td>main</td>\n",
       "    </tr>\n",
       "    <tr>\n",
       "      <th>4</th>\n",
       "      <td>474520830</td>\n",
       "      <td>R_kgDOHEic_g</td>\n",
       "      <td>Article-Recommender-System</td>\n",
       "      <td>suhasmaddali/Article-Recommender-System</td>\n",
       "      <td>False</td>\n",
       "      <td>{'login': 'suhasmaddali', 'id': 53935116, 'nod...</td>\n",
       "      <td>https://github.com/suhasmaddali/Article-Recomm...</td>\n",
       "      <td>This repository describes various ways of solv...</td>\n",
       "      <td>False</td>\n",
       "      <td>https://api.github.com/repos/suhasmaddali/Arti...</td>\n",
       "      <td>...</td>\n",
       "      <td>None</td>\n",
       "      <td>True</td>\n",
       "      <td>False</td>\n",
       "      <td>False</td>\n",
       "      <td>[]</td>\n",
       "      <td>public</td>\n",
       "      <td>0</td>\n",
       "      <td>0</td>\n",
       "      <td>2</td>\n",
       "      <td>main</td>\n",
       "    </tr>\n",
       "  </tbody>\n",
       "</table>\n",
       "<p>5 rows × 79 columns</p>\n",
       "</div>"
      ],
      "text/plain": [
       "          id       node_id                                  name  \\\n",
       "0  432516790  R_kgDOGceutg                  Academic-Transcripts   \n",
       "1  442602945  R_kgDOGmGVwQ              Adare-Restaurant-Webpage   \n",
       "2  430258554  R_kgDOGaU5eg         Airbnb-Home-Prices-Prediction   \n",
       "3  580535839  R_kgDOIppGHw  Airline-Twitter-Sentiment-Prediction   \n",
       "4  474520830  R_kgDOHEic_g            Article-Recommender-System   \n",
       "\n",
       "                                           full_name  private  \\\n",
       "0                  suhasmaddali/Academic-Transcripts    False   \n",
       "1              suhasmaddali/Adare-Restaurant-Webpage    False   \n",
       "2         suhasmaddali/Airbnb-Home-Prices-Prediction    False   \n",
       "3  suhasmaddali/Airline-Twitter-Sentiment-Prediction    False   \n",
       "4            suhasmaddali/Article-Recommender-System    False   \n",
       "\n",
       "                                               owner  \\\n",
       "0  {'login': 'suhasmaddali', 'id': 53935116, 'nod...   \n",
       "1  {'login': 'suhasmaddali', 'id': 53935116, 'nod...   \n",
       "2  {'login': 'suhasmaddali', 'id': 53935116, 'nod...   \n",
       "3  {'login': 'suhasmaddali', 'id': 53935116, 'nod...   \n",
       "4  {'login': 'suhasmaddali', 'id': 53935116, 'nod...   \n",
       "\n",
       "                                            html_url  \\\n",
       "0  https://github.com/suhasmaddali/Academic-Trans...   \n",
       "1  https://github.com/suhasmaddali/Adare-Restaura...   \n",
       "2  https://github.com/suhasmaddali/Airbnb-Home-Pr...   \n",
       "3  https://github.com/suhasmaddali/Airline-Twitte...   \n",
       "4  https://github.com/suhasmaddali/Article-Recomm...   \n",
       "\n",
       "                                         description   fork  \\\n",
       "0  This repository contains academic transcripts....  False   \n",
       "1  A website is designed with HTML5 and CSS3 to h...  False   \n",
       "2  In this project, the housing prices from Airbn...  False   \n",
       "3  This coding repository showcases various featu...  False   \n",
       "4  This repository describes various ways of solv...  False   \n",
       "\n",
       "                                                 url  ... license  \\\n",
       "0  https://api.github.com/repos/suhasmaddali/Acad...  ...    None   \n",
       "1  https://api.github.com/repos/suhasmaddali/Adar...  ...    None   \n",
       "2  https://api.github.com/repos/suhasmaddali/Airb...  ...    None   \n",
       "3  https://api.github.com/repos/suhasmaddali/Airl...  ...    None   \n",
       "4  https://api.github.com/repos/suhasmaddali/Arti...  ...    None   \n",
       "\n",
       "  allow_forking is_template web_commit_signoff_required topics visibility  \\\n",
       "0          True       False                       False     []     public   \n",
       "1          True       False                       False     []     public   \n",
       "2          True       False                       False     []     public   \n",
       "3          True       False                       False     []     public   \n",
       "4          True       False                       False     []     public   \n",
       "\n",
       "  forks open_issues watchers default_branch  \n",
       "0     0           0        1           main  \n",
       "1     0           0        1           main  \n",
       "2     1           0        4           main  \n",
       "3     0           0        2           main  \n",
       "4     0           0        2           main  \n",
       "\n",
       "[5 rows x 79 columns]"
      ]
     },
     "execution_count": 6,
     "metadata": {},
     "output_type": "execute_result"
    }
   ],
   "source": [
    "repos_df.head()"
   ]
  },
  {
   "cell_type": "markdown",
   "id": "e0d2159e",
   "metadata": {},
   "source": [
    "### Saving the DataFrame to a CSV file"
   ]
  },
  {
   "cell_type": "code",
   "execution_count": 7,
   "id": "f5a21ac1",
   "metadata": {},
   "outputs": [
    {
     "name": "stdout",
     "output_type": "stream",
     "text": [
      "Data saved to suhasmaddali_repos.csv\n"
     ]
    }
   ],
   "source": [
    "repos_df.to_csv(f'{username}_repos.csv', index=False)\n",
    "print(f\"Data saved to {username}_repos.csv\")"
   ]
  },
  {
   "cell_type": "markdown",
   "id": "97d114f3",
   "metadata": {},
   "source": [
    "### Loading the Dataset"
   ]
  },
  {
   "cell_type": "code",
   "execution_count": 8,
   "id": "8dc124dc",
   "metadata": {},
   "outputs": [],
   "source": [
    "repos_df = pd.read_csv('suhasmaddali_repos.csv')"
   ]
  },
  {
   "cell_type": "markdown",
   "id": "80e75e22",
   "metadata": {},
   "source": [
    "### Checking the shape of the DataFrame"
   ]
  },
  {
   "cell_type": "code",
   "execution_count": 9,
   "id": "c9255b5a",
   "metadata": {},
   "outputs": [
    {
     "name": "stdout",
     "output_type": "stream",
     "text": [
      "Shape of the DataFrame: (30, 79)\n"
     ]
    }
   ],
   "source": [
    "print(f\"Shape of the DataFrame: {repos_df.shape}\")"
   ]
  },
  {
   "cell_type": "markdown",
   "id": "a5b3a149",
   "metadata": {},
   "source": [
    "### Displaying the columns"
   ]
  },
  {
   "cell_type": "code",
   "execution_count": 10,
   "id": "4ba21592",
   "metadata": {},
   "outputs": [
    {
     "name": "stdout",
     "output_type": "stream",
     "text": [
      "Columns in the DataFrame:\n",
      "Index(['id', 'node_id', 'name', 'full_name', 'private', 'owner', 'html_url',\n",
      "       'description', 'fork', 'url', 'forks_url', 'keys_url',\n",
      "       'collaborators_url', 'teams_url', 'hooks_url', 'issue_events_url',\n",
      "       'events_url', 'assignees_url', 'branches_url', 'tags_url', 'blobs_url',\n",
      "       'git_tags_url', 'git_refs_url', 'trees_url', 'statuses_url',\n",
      "       'languages_url', 'stargazers_url', 'contributors_url',\n",
      "       'subscribers_url', 'subscription_url', 'commits_url', 'git_commits_url',\n",
      "       'comments_url', 'issue_comment_url', 'contents_url', 'compare_url',\n",
      "       'merges_url', 'archive_url', 'downloads_url', 'issues_url', 'pulls_url',\n",
      "       'milestones_url', 'notifications_url', 'labels_url', 'releases_url',\n",
      "       'deployments_url', 'created_at', 'updated_at', 'pushed_at', 'git_url',\n",
      "       'ssh_url', 'clone_url', 'svn_url', 'homepage', 'size',\n",
      "       'stargazers_count', 'watchers_count', 'language', 'has_issues',\n",
      "       'has_projects', 'has_downloads', 'has_wiki', 'has_pages',\n",
      "       'has_discussions', 'forks_count', 'mirror_url', 'archived', 'disabled',\n",
      "       'open_issues_count', 'license', 'allow_forking', 'is_template',\n",
      "       'web_commit_signoff_required', 'topics', 'visibility', 'forks',\n",
      "       'open_issues', 'watchers', 'default_branch'],\n",
      "      dtype='object')\n"
     ]
    }
   ],
   "source": [
    "print(\"Columns in the DataFrame:\")\n",
    "print(repos_df.columns)"
   ]
  },
  {
   "cell_type": "markdown",
   "id": "72d6ff81",
   "metadata": {},
   "source": [
    "### Checking the Data Types"
   ]
  },
  {
   "cell_type": "code",
   "execution_count": 11,
   "id": "86e6954c",
   "metadata": {},
   "outputs": [
    {
     "name": "stdout",
     "output_type": "stream",
     "text": [
      "Data types of each column:\n",
      "id                 int64\n",
      "node_id           object\n",
      "name              object\n",
      "full_name         object\n",
      "private             bool\n",
      "                   ...  \n",
      "visibility        object\n",
      "forks              int64\n",
      "open_issues        int64\n",
      "watchers           int64\n",
      "default_branch    object\n",
      "Length: 79, dtype: object\n"
     ]
    }
   ],
   "source": [
    "print(\"Data types of each column:\")\n",
    "print(repos_df.dtypes)"
   ]
  },
  {
   "cell_type": "markdown",
   "id": "bcb81100",
   "metadata": {},
   "source": [
    "### Checking for duplicates"
   ]
  },
  {
   "cell_type": "code",
   "execution_count": 12,
   "id": "2c66c5d9",
   "metadata": {},
   "outputs": [
    {
     "name": "stdout",
     "output_type": "stream",
     "text": [
      "Number of duplicate entries: 0\n"
     ]
    }
   ],
   "source": [
    "duplicates = repos_df.duplicated().sum()\n",
    "print(f\"Number of duplicate entries: {duplicates}\")"
   ]
  },
  {
   "cell_type": "markdown",
   "id": "1b9d286a",
   "metadata": {},
   "source": [
    "### Checking for Missing Values"
   ]
  },
  {
   "cell_type": "code",
   "execution_count": 13,
   "id": "b7164738",
   "metadata": {},
   "outputs": [
    {
     "name": "stdout",
     "output_type": "stream",
     "text": [
      "Missing values in each column:\n",
      "id                0\n",
      "node_id           0\n",
      "name              0\n",
      "full_name         0\n",
      "private           0\n",
      "                 ..\n",
      "visibility        0\n",
      "forks             0\n",
      "open_issues       0\n",
      "watchers          0\n",
      "default_branch    0\n",
      "Length: 79, dtype: int64\n"
     ]
    }
   ],
   "source": [
    "missing_values = repos_df.isnull().sum()\n",
    "print(\"Missing values in each column:\")\n",
    "print(missing_values)"
   ]
  },
  {
   "cell_type": "markdown",
   "id": "0d0da29f",
   "metadata": {},
   "source": [
    "### Dropping Unnecessary Columns"
   ]
  },
  {
   "cell_type": "code",
   "execution_count": 14,
   "id": "0dcd768c",
   "metadata": {},
   "outputs": [],
   "source": [
    "repos_df.drop(columns=['node_id', 'private', 'owner', 'url', 'forks_url', \n",
    "                       'keys_url', 'collaborators_url', 'teams_url', \n",
    "                       'hooks_url', 'issue_events_url', 'events_url', \n",
    "                       'assignees_url', 'branches_url', 'tags_url', \n",
    "                       'blobs_url', 'git_tags_url', 'git_refs_url', \n",
    "                       'trees_url', 'statuses_url', 'languages_url', \n",
    "                       'stargazers_url', 'contributors_url', \n",
    "                       'subscribers_url', 'subscription_url', \n",
    "                       'commits_url', 'git_commits_url', 'comments_url', \n",
    "                       'issue_comment_url', 'contents_url', 'compare_url', \n",
    "                       'merges_url', 'archive_url', 'downloads_url', \n",
    "                       'issues_url', 'pulls_url', 'milestones_url', \n",
    "                       'notifications_url', 'labels_url', 'releases_url', \n",
    "                       'deployments_url', 'git_url', 'ssh_url', \n",
    "                       'clone_url', 'svn_url', 'size', \n",
    "                       'has_issues', 'has_projects', 'has_downloads', \n",
    "                       'has_wiki', 'has_pages', 'has_discussions', \n",
    "                       'visibility'], inplace=True)"
   ]
  },
  {
   "cell_type": "markdown",
   "id": "e1ca4d39",
   "metadata": {},
   "source": [
    "### Handling the Missing Values (dropping rows where 'language' is missing)"
   ]
  },
  {
   "cell_type": "code",
   "execution_count": 15,
   "id": "0ace7f27",
   "metadata": {},
   "outputs": [],
   "source": [
    "repos_df = repos_df.dropna(subset=['language'])"
   ]
  },
  {
   "cell_type": "markdown",
   "id": "b137c5fb",
   "metadata": {},
   "source": [
    "### Converting date columns to datetime format"
   ]
  },
  {
   "cell_type": "code",
   "execution_count": 16,
   "id": "783d52d5",
   "metadata": {},
   "outputs": [],
   "source": [
    "repos_df['created_at'] = pd.to_datetime(repos_df['created_at'])\n",
    "repos_df['updated_at'] = pd.to_datetime(repos_df['updated_at'])"
   ]
  },
  {
   "cell_type": "markdown",
   "id": "42ec2326",
   "metadata": {},
   "source": [
    "### Display Data Info"
   ]
  },
  {
   "cell_type": "code",
   "execution_count": 18,
   "id": "b214129b",
   "metadata": {},
   "outputs": [
    {
     "name": "stdout",
     "output_type": "stream",
     "text": [
      "<class 'pandas.core.frame.DataFrame'>\n",
      "Index: 21 entries, 1 to 29\n",
      "Data columns (total 27 columns):\n",
      " #   Column                       Non-Null Count  Dtype              \n",
      "---  ------                       --------------  -----              \n",
      " 0   id                           21 non-null     int64              \n",
      " 1   name                         21 non-null     object             \n",
      " 2   full_name                    21 non-null     object             \n",
      " 3   html_url                     21 non-null     object             \n",
      " 4   description                  18 non-null     object             \n",
      " 5   fork                         21 non-null     bool               \n",
      " 6   created_at                   21 non-null     datetime64[ns, UTC]\n",
      " 7   updated_at                   21 non-null     datetime64[ns, UTC]\n",
      " 8   pushed_at                    21 non-null     object             \n",
      " 9   homepage                     0 non-null      float64            \n",
      " 10  stargazers_count             21 non-null     int64              \n",
      " 11  watchers_count               21 non-null     int64              \n",
      " 12  language                     21 non-null     object             \n",
      " 13  forks_count                  21 non-null     int64              \n",
      " 14  mirror_url                   0 non-null      float64            \n",
      " 15  archived                     21 non-null     bool               \n",
      " 16  disabled                     21 non-null     bool               \n",
      " 17  open_issues_count            21 non-null     int64              \n",
      " 18  license                      1 non-null      object             \n",
      " 19  allow_forking                21 non-null     bool               \n",
      " 20  is_template                  21 non-null     bool               \n",
      " 21  web_commit_signoff_required  21 non-null     bool               \n",
      " 22  topics                       21 non-null     object             \n",
      " 23  forks                        21 non-null     int64              \n",
      " 24  open_issues                  21 non-null     int64              \n",
      " 25  watchers                     21 non-null     int64              \n",
      " 26  default_branch               21 non-null     object             \n",
      "dtypes: bool(6), datetime64[ns, UTC](2), float64(2), int64(8), object(9)\n",
      "memory usage: 3.7+ KB\n",
      "None\n"
     ]
    }
   ],
   "source": [
    "print(repos_df.info())"
   ]
  },
  {
   "cell_type": "markdown",
   "id": "165a7178",
   "metadata": {},
   "source": [
    "### Analyzing the number of repositories created over time"
   ]
  },
  {
   "cell_type": "code",
   "execution_count": 19,
   "id": "78692b4e",
   "metadata": {},
   "outputs": [
    {
     "name": "stdout",
     "output_type": "stream",
     "text": [
      "Number of repositories created per year:\n",
      "year_created\n",
      "2019     2\n",
      "2021    12\n",
      "2022     3\n",
      "2023     2\n",
      "2024     2\n",
      "Name: count, dtype: int64\n"
     ]
    }
   ],
   "source": [
    "repos_df['year_created'] = repos_df['created_at'].dt.year\n",
    "repos_per_year = repos_df['year_created'].value_counts().sort_index()\n",
    "\n",
    "print(\"Number of repositories created per year:\")\n",
    "print(repos_per_year)"
   ]
  },
  {
   "cell_type": "markdown",
   "id": "6b78fe62",
   "metadata": {},
   "source": [
    "### Plotting the number of repositories created over the years"
   ]
  },
  {
   "cell_type": "code",
   "execution_count": 20,
   "id": "2361708d",
   "metadata": {},
   "outputs": [
    {
     "data": {
      "image/png": "[encoded data removed]",
      "text/plain": [
       "<Figure size 1000x600 with 1 Axes>"
      ]
     },
     "metadata": {},
     "output_type": "display_data"
    }
   ],
   "source": [
    "plt.figure(figsize=(10, 6))\n",
    "repos_per_year.plot(kind='bar', color='skyblue')\n",
    "plt.title('Number of Repositories Created Per Year')\n",
    "plt.xlabel('Year')\n",
    "plt.ylabel('Number of Repositories')\n",
    "plt.xticks(rotation=45)\n",
    "plt.grid(axis='y', linestyle='--', alpha=0.7)\n",
    "plt.show()"
   ]
  },
  {
   "cell_type": "markdown",
   "id": "d3f850f0",
   "metadata": {},
   "source": [
    "### Occurrences of each programming language"
   ]
  },
  {
   "cell_type": "code",
   "execution_count": 21,
   "id": "8df0a72c",
   "metadata": {},
   "outputs": [
    {
     "data": {
      "text/plain": [
       "language\n",
       "Jupyter Notebook    18\n",
       "HTML                 1\n",
       "CSS                  1\n",
       "JavaScript           1\n",
       "Name: count, dtype: int64"
      ]
     },
     "execution_count": 21,
     "metadata": {},
     "output_type": "execute_result"
    }
   ],
   "source": [
    "language_counts = repos_df['language'].value_counts()\n",
    "language_counts"
   ]
  },
  {
   "cell_type": "markdown",
   "id": "906c9000",
   "metadata": {},
   "source": [
    "### Plotting the distribution of programming languages"
   ]
  },
  {
   "cell_type": "code",
   "execution_count": 22,
   "id": "2a07af81",
   "metadata": {},
   "outputs": [
    {
     "data": {
      "image/png": "[encoded data removed]",
      "text/plain": [
       "<Figure size 1000x600 with 1 Axes>"
      ]
     },
     "metadata": {},
     "output_type": "display_data"
    }
   ],
   "source": [
    "plt.figure(figsize=(10, 6))\n",
    "language_counts.plot(kind='bar', color='orange')\n",
    "plt.title('Distribution of Programming Languages')\n",
    "plt.xlabel('Programming Language')\n",
    "plt.ylabel('Number of Repositories')\n",
    "plt.xticks(rotation=45)\n",
    "plt.grid(axis='y', linestyle='--', alpha=0.7)\n",
    "plt.show()"
   ]
  },
  {
   "cell_type": "markdown",
   "id": "eadb10bf",
   "metadata": {},
   "source": [
    "# Summary of findings"
   ]
  },
  {
   "cell_type": "code",
   "execution_count": 23,
   "id": "84acb401",
   "metadata": {},
   "outputs": [
    {
     "name": "stdout",
     "output_type": "stream",
     "text": [
      "Summary Report:\n",
      "Number of Repositories: 21\n",
      "Languages Used: ['HTML' 'Jupyter Notebook' 'CSS' 'JavaScript']\n",
      "Years Active: [2021 2022 2019 2023 2024]\n"
     ]
    }
   ],
   "source": [
    "summary_report = {\n",
    "    \"Number of Repositories\": repos_df.shape[0],\n",
    "    \"Languages Used\": repos_df['language'].unique(),\n",
    "    \"Years Active\": repos_df['year_created'].unique()\n",
    "}\n",
    "\n",
    "print(\"Summary Report:\")\n",
    "for key, value in summary_report.items():\n",
    "    print(f\"{key}: {value}\")\n"
   ]
  }
 ],
 "metadata": {
  "kernelspec": {
   "display_name": "Python 3 (ipykernel)",
   "language": "python",
   "name": "python3"
  },
  "language_info": {
   "codemirror_mode": {
    "name": "ipython",
    "version": 3
   },
   "file_extension": ".py",
   "mimetype": "text/x-python",
   "name": "python",
   "nbconvert_exporter": "python",
   "pygments_lexer": "ipython3",
   "version": "3.9.19"
  }
 },
 "nbformat": 4,
 "nbformat_minor": 5
}
